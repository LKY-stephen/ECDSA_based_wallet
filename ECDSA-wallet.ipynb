{
 "cells": [
  {
   "cell_type": "code",
   "execution_count": 1,
   "metadata": {},
   "outputs": [],
   "source": [
    "from ecdsa import SigningKey\n",
    "from hashlib import sha256\n",
    "import copy\n",
    "from random import randint"
   ]
  },
  {
   "cell_type": "code",
   "execution_count": 2,
   "metadata": {},
   "outputs": [],
   "source": [
    "def splitnumber(str1):\n",
    "        n=len(str1)//2\n",
    "        return(str1[:n],str1[n:])\n",
    "    \n",
    "class coldwallet:\n",
    "    def __init__(self,seed):\n",
    "        self.msk=SigningKey.generate()\n",
    "        #use seed to generate hash string and get the second part of it as initstate\n",
    "        self.st=splitnumber(sha256(str(seed).encode(\"utf-8\")).hexdigest())[1]\n",
    "        self.sessionkeys={}\n",
    "        \n",
    "    def generatehotwallet(self):\n",
    "        return hotwallet(self.verificationmasterkey(),self.st)\n",
    "    \n",
    "    def verificationmasterkey(self):\n",
    "        return self.msk.get_verifying_key()\n",
    "        \n",
    "    def createsessionkey(self,ID):\n",
    "        if ID in self.sessionkeys:\n",
    "            return False\n",
    "        pair=splitnumber(sha256((self.st+str(ID)).encode(\"utf-8\")).hexdigest())\n",
    "        #update state first\n",
    "        self.st=pair[1]\n",
    "        #create sessionsecretkey and store it\n",
    "        sessionprivkey=copy.deepcopy(self.msk.privkey)\n",
    "        sessionprivkey.secret_multiplier*=int(pair[0],16)\n",
    "        sessionprivkey.public_key.point*=int(pair[0],16)\n",
    "        self.sessionkeys[ID]=sessionprivkey\n",
    "        return True\n",
    "    \n",
    "    def sessionverificationkey(self,ID):\n",
    "        if ID in self.sessionkeys:\n",
    "            return self.sessionkeys[ID].public_key\n",
    "        return None\n",
    "                        \n",
    "    def sign(self,ID,message):\n",
    "        hashmsg=int(sha256(message.encode(\"utf-8\")).hexdigest(),16)\n",
    "        randomnumber=int(sha256(str(hash(randint(10000,10000000))).encode(\"utf-8\")).hexdigest(),16)\n",
    "        return self.sessionkeys[ID].sign(hashmsg,randomnumber)\n",
    "\n",
    "class hotwallet:  \n",
    "    def __init__(self,mpk,st):\n",
    "        self.mpk=mpk\n",
    "        self.st=st\n",
    "        self.sessionpublickeys={}\n",
    "    \n",
    "    def createsessionpubkey(self,ID):\n",
    "        if ID in self.sessionpublickeys:\n",
    "            return False\n",
    "        pair=splitnumber(sha256((self.st+str(ID)).encode(\"utf-8\")).hexdigest())\n",
    "        #update state first\n",
    "        self.st=pair[1]\n",
    "        #create sessionpublickey and store it\n",
    "        sessionpubkey=copy.deepcopy(self.mpk.pubkey)\n",
    "        sessionpubkey.point*=int(pair[0],16)\n",
    "        self.sessionpublickeys[ID]=sessionpubkey\n",
    "        return True\n",
    "    def verification(self,ID,signature,msg):\n",
    "        hashmsg=int(sha256(message.encode(\"utf-8\")).hexdigest(),16)\n",
    "        return self.sessionpublickeys[ID].verifies(hashmsg,signature)\n",
    "\n"
   ]
  },
  {
   "cell_type": "code",
   "execution_count": 3,
   "metadata": {},
   "outputs": [
    {
     "name": "stdout",
     "output_type": "stream",
     "text": [
      "Yes, signature is True\n",
      "Yes, signature is True\n",
      "Yes, signature is True\n",
      "Yes, signature is True\n"
     ]
    }
   ],
   "source": [
    "cw=coldwallet(114514)\n",
    "hw=cw.generatehotwallet()\n",
    "IDlist=[\"Microsoft\",\"Amazon\",\"Google\",\"Alibaba\"]\n",
    "message=\"Donald Trump\"\n",
    "for ID in IDlist:\n",
    "    cw.createsessionkey(ID)\n",
    "    hw.createsessionpubkey(ID)\n",
    "\n",
    "for ID in IDlist:\n",
    "    signature=cw.sign(ID,message)\n",
    "    print(\"Yes, signature is \"+str(hw.verification(ID,signature,message)))"
   ]
  },
  {
   "cell_type": "code",
   "execution_count": null,
   "metadata": {},
   "outputs": [],
   "source": []
  },
  {
   "cell_type": "code",
   "execution_count": null,
   "metadata": {},
   "outputs": [],
   "source": []
  },
  {
   "cell_type": "code",
   "execution_count": null,
   "metadata": {},
   "outputs": [],
   "source": []
  },
  {
   "cell_type": "code",
   "execution_count": null,
   "metadata": {},
   "outputs": [],
   "source": []
  }
 ],
 "metadata": {
  "kernelspec": {
   "display_name": "Python 3",
   "language": "python",
   "name": "python3"
  },
  "language_info": {
   "codemirror_mode": {
    "name": "ipython",
    "version": 3
   },
   "file_extension": ".py",
   "mimetype": "text/x-python",
   "name": "python",
   "nbconvert_exporter": "python",
   "pygments_lexer": "ipython3",
   "version": "3.7.3"
  }
 },
 "nbformat": 4,
 "nbformat_minor": 2
}
